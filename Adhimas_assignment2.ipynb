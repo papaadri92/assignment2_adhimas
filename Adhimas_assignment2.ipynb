{
  "nbformat": 4,
  "nbformat_minor": 0,
  "metadata": {
    "colab": {
      "provenance": []
    },
    "kernelspec": {
      "name": "python3",
      "display_name": "Python 3"
    },
    "language_info": {
      "name": "python"
    }
  },
  "cells": [
    {
      "cell_type": "markdown",
      "source": [
        "# **FUNCTION AND MODULE**\n",
        "---"
      ],
      "metadata": {
        "id": "rwHKZHaccKdF"
      }
    },
    {
      "cell_type": "markdown",
      "source": [
        "# Sesi 3 - Objectives\n",
        "\n",
        "Pada akhir pertemuan ini, peserta akan:\n",
        "1. Mampu membuat fungsi yang menerima argumen dan mengembalikan hasil menggunakan `return`.\n",
        "2. Memahami cara menggunakan metode bawaan Python pada string dan list.\n",
        "3. Mampu menggabungkan fungsi dan metode dalam program sederhana.\n"
      ],
      "metadata": {
        "id": "0inVXrF2XxyH"
      }
    },
    {
      "cell_type": "markdown",
      "source": [
        "#### 1. **Pengenalan Fungsi (Function) di Python**\n",
        "   - **Apa itu Fungsi?**\n",
        "     - Fungsi adalah blok kode yang dirancang untuk melakukan tugas tertentu. Fungsi memudahkan untuk memecah program menjadi bagian-bagian yang lebih kecil dan terorganisir.\n",
        "   - **Sintaks Dasar Fungsi:**\n",
        "     ```python\n",
        "     def nama_fungsi(parameter1, parameter2, ...):\n",
        "         # Blok kode yang akan dijalankan saat fungsi dipanggil\n",
        "         return nilai\n",
        "     ```\n",
        "\n",
        "     Contoh Fungsi Sederhana:\n",
        "     ```python\n",
        "     def sapa(nama):\n",
        "         return f\"Halo, {nama}!\"\n",
        "\n",
        "     # Memanggil fungsi\n",
        "     print(sapa(\"Andi\"))\n",
        "     ```\n",
        "\n",
        "   - **Argumen dan Parameter:**\n",
        "     - **Parameter** adalah variabel di dalam definisi fungsi.\n",
        "     - **Argumen** adalah nilai yang dikirimkan ke fungsi saat memanggilnya.\n",
        "     \n",
        "     Contoh fungsi dengan beberapa parameter:\n",
        "     ```python\n",
        "     def hitung_luas(panjang, lebar):\n",
        "         return panjang * lebar\n",
        "\n",
        "     # Memanggil fungsi dengan dua argumen\n",
        "     print(hitung_luas(5, 10))\n",
        "     ```\n",
        "\n",
        "   - **Latihan Fungsi:**\n",
        "     Buat fungsi yang menghitung jumlah dua angka dan mengembalikan hasilnya:\n",
        "     ```python\n",
        "     def tambah(angka1, angka2):\n",
        "         return angka1 + angka2\n",
        "\n",
        "     hasil = tambah(3, 7)\n",
        "     print(\"Hasil penjumlahan:\", hasil)\n",
        "     ```\n",
        "\n",
        "---\n",
        "\n",
        "#### 2. **Fungsi dengan Nilai Default, Required, Positional, dan Keyword Arguments**\n",
        "   - **Nilai Default:**\n",
        "     Parameter fungsi dapat memiliki nilai default, yang akan digunakan jika argumen tidak diberikan saat fungsi dipanggil.\n",
        "     ```python\n",
        "     def sapa(nama=\"Pengguna\"):\n",
        "         print(f\"Halo, {nama}!\")\n",
        "\n",
        "     sapa()  # Menggunakan nilai default \"Pengguna\"\n",
        "     sapa(\"Andi\")  # Mengganti dengan argumen \"Andi\"\n",
        "     ```\n",
        "\n",
        "   - **Keyword Arguments:**\n",
        "     Argumen dapat diberikan dengan nama parameternya secara eksplisit untuk meningkatkan kejelasan.\n",
        "     ```python\n",
        "     def hitung_luas(panjang, lebar):\n",
        "         return panjang * lebar\n",
        "\n",
        "     print(hitung_luas(lebar=10, panjang=5))  # Urutan tidak penting jika menggunakan keyword arguments\n",
        "     ```\n",
        "\n",
        "   - **Latihan Nilai Default:**\n",
        "     Buat fungsi untuk menghitung diskon dengan parameter harga asli dan persentase diskon. Buat agar persentase diskon memiliki nilai default 10%.\n",
        "     ```python\n",
        "     def hitung_diskon(harga, diskon=10):\n",
        "         return harga - (harga * diskon / 100)\n",
        "\n",
        "     print(hitung_diskon(100000))  # Diskon default 10%\n",
        "     print(hitung_diskon(100000, 20))  # Diskon 20%\n",
        "     ```\n",
        "\n",
        "- **Required Argument:**\n",
        "  Required argument adalah argumen yang harus diberikan saat memanggil fungsi. Jika argumen tersebut tidak diberikan, Python akan mengeluarkan error karena fungsi membutuhkan argumen tersebut untuk dijalankan.\n",
        "\n",
        "  Contoh:\n",
        "  ```python\n",
        "  def hitung_luas(panjang, lebar):\n",
        "      return panjang * lebar\n",
        "\n",
        "  # Memanggil fungsi dengan semua required argument\n",
        "  print(hitung_luas(5, 10))  # Output: 50\n",
        "\n",
        "  # Jika argumen tidak lengkap, akan muncul error\n",
        "  # print(hitung_luas(5))  # Error: missing 1 required positional argument\n",
        "  ```\n",
        "\n",
        "  Pada contoh di atas, `panjang` dan `lebar` adalah required arguments. Jika kita tidak memberikan nilai untuk keduanya saat memanggil fungsi, akan terjadi error.\n",
        "\n",
        "- **Positional Argument:**\n",
        "  Positional argument adalah argumen yang diberikan berdasarkan urutan posisi parameter ketika fungsi dipanggil. Python akan menyesuaikan nilai argumen dengan parameter sesuai dengan urutannya.\n",
        "\n",
        "  Contoh:\n",
        "  ```python\n",
        "  def hitung_persegi_panjang(panjang, lebar):\n",
        "      return panjang * lebar\n",
        "\n",
        "  # Memanggil fungsi dengan positional argument\n",
        "  print(hitung_persegi_panjang(5, 10))  # 5 akan diinterpretasikan sebagai panjang, dan 10 sebagai lebar\n",
        "  ```\n",
        "\n",
        "  Dalam contoh ini, angka `5` akan diterima sebagai `panjang` dan `10` sebagai `lebar` sesuai urutan argumen ketika memanggil fungsi.\n",
        "---\n",
        "\n",
        "#### 3. **Fungsi Tanpa Return**\n",
        "   - Fungsi tidak selalu harus mengembalikan nilai. Beberapa fungsi hanya melakukan tugas tertentu tanpa menggunakan `return`.\n",
        "   - Contoh fungsi tanpa `return`:\n",
        "     ```python\n",
        "     def cetak_salam(nama):\n",
        "         print(f\"Halo, {nama}!\")\n",
        "\n",
        "     cetak_salam(\"Andi\")\n",
        "     ```\n",
        "\n",
        "   - **Latihan Fungsi Tanpa Return**:\n",
        "     Buat fungsi yang hanya mencetak kalimat tertentu tanpa mengembalikan nilai:\n",
        "     ```python\n",
        "     def cetak_nama(nama):\n",
        "         print(f\"Nama Anda adalah {nama}\")\n",
        "\n",
        "     cetak_nama(\"Sinta\")\n",
        "     ```\n",
        "\n",
        "---\n",
        "\n",
        "#### 4. **Pengenalan Module di Python**\n",
        "   - **Apa itu Module?**\n",
        "     - Module adalah file yang berisi kumpulan fungsi dan variabel yang dapat diimpor ke program Python lain. Dengan module, kode bisa lebih modular dan lebih mudah dipelihara.\n",
        "     - Python memiliki banyak module built-in (tertanam), dan kita juga bisa membuat module sendiri.\n",
        "\n",
        "   - **Mengimpor Module:**\n",
        "     Untuk menggunakan module, kita harus mengimpor module tersebut terlebih dahulu. Contoh mengimpor module `math`:\n",
        "     ```python\n",
        "     import math\n",
        "\n",
        "     print(math.sqrt(16))  # Menggunakan fungsi sqrt dari module math\n",
        "     ```\n",
        "\n",
        "   - **Mengimpor dengan Alias:**\n",
        "     Kita bisa memberikan alias (nama pendek) untuk module yang diimpor:\n",
        "     ```python\n",
        "     import math as m\n",
        "\n",
        "     print(m.sqrt(25))  # Menggunakan alias m untuk module math\n",
        "     ```\n",
        "\n",
        "   - **Mengimpor Fungsi Spesifik:**\n",
        "     Kita juga bisa mengimpor hanya fungsi tertentu dari module:\n",
        "     ```python\n",
        "     from math import sqrt\n",
        "\n",
        "     print(sqrt(36))  # Mengimpor hanya fungsi sqrt\n",
        "     ```\n",
        "\n",
        "   - **Latihan Module:**\n",
        "     Gunakan module `math` untuk menghitung lingkaran dengan rumus `luas = pi * r^2`, di mana `pi` berasal dari module `math`:\n",
        "     ```python\n",
        "     import math\n",
        "\n",
        "     def hitung_luas_lingkaran(jari_jari):\n",
        "         return math.pi * jari_jari ** 2\n",
        "\n",
        "     print(hitung_luas_lingkaran(5))  # Menghitung luas lingkaran dengan jari-jari 5\n",
        "     ```\n",
        "\n",
        "---\n",
        "\n",
        "#### 5. **Membuat Module Sendiri**\n",
        "   - Kita juga bisa membuat module sendiri dengan menyimpan fungsi di file Python terpisah dan mengimpornya ke program lain.\n",
        "   - Contoh: Buat file bernama `modulku.py` dengan kode berikut:\n",
        "     ```python\n",
        "     def sapa(nama):\n",
        "         print(f\"Halo, {nama}!\")\n",
        "\n",
        "     def hitung_luas(panjang, lebar):\n",
        "         return panjang * lebar\n",
        "     ```\n",
        "\n",
        "   - Lalu, kita bisa mengimpor module tersebut ke program Python lain:\n",
        "     ```python\n",
        "     import modulku\n",
        "\n",
        "     modulku.sapa(\"Andi\")\n",
        "     print(modulku.hitung_luas(5, 10))\n",
        "     ```\n",
        "\n",
        "  \n",
        "\n",
        "---\n",
        "\n",
        "#### 6. **Latihan Akhir: Menerapkan Fungsi dan Module**\n",
        "   - Gabungkan konsep fungsi dan module dalam satu program.\n",
        "   - Buat fungsi dalam module terpisah yang menghitung volume kubus, kemudian impor module tersebut dan panggil fungsi untuk menghitung volume kubus berdasarkan input pengguna.\n",
        "\n",
        "   Contoh Program:\n",
        "   1. **File `modul_volume.py`:**\n",
        "     ```python\n",
        "     def hitung_volume_kubus(sisi):\n",
        "         return sisi ** 3\n",
        "     ```\n",
        "   \n",
        "   2. **File utama:**\n",
        "     ```python\n",
        "     import modul_volume\n",
        "\n",
        "     sisi = int(input(\"Masukkan panjang sisi kubus: \"))\n",
        "     print(f\"Volume kubus: {modul_volume.hitung_volume_kubus(sisi)}\")\n",
        "     ```\n",
        "\n",
        "---\n",
        "\n",
        "\n",
        "\n",
        "\n"
      ],
      "metadata": {
        "id": "x2ZsQqMpXGvY"
      }
    },
    {
      "cell_type": "markdown",
      "source": [
        "## **Latihan Function**"
      ],
      "metadata": {
        "id": "Bx9Q_tBxdkAc"
      }
    },
    {
      "cell_type": "markdown",
      "source": [
        "**NOMOR 1**\n",
        "\n",
        "Buatlah sebuah function untuk menampilkan tanda plus (`+`) sebanyak\n",
        "`n`.\n",
        "  * Input : `n` | Jumlah tanda plus (`+`) yang diinginkan | int\n",
        "  * Output : Jumlah tanda plus yang ditampilkan\n",
        "\n",
        "| Input | Output |\n",
        "| - | - |\n",
        "| n = 1 | + |\n",
        "| n = 3 | + <br /> + <br /> + |\n",
        "| n = 5 | + <br /> + <br /> + <br /> + <br /> + |\n",
        "| n = 0 | Tampilkan pesan `Input salah` |\n",
        "| n = -1 | Tampilkan pesan `Input salah` |\n",
        "\n"
      ],
      "metadata": {
        "id": "0hP-OKXLdpnB"
      }
    },
    {
      "cell_type": "code",
      "source": [
        "# Working area\n",
        "#Create function\n",
        "def tampil_plus(n):\n",
        "  if n <=0 :\n",
        "    print('Input Salah')\n",
        "  else:\n",
        "    for i in range(n):\n",
        "      print('+')"
      ],
      "metadata": {
        "id": "HNYbdCFmd_sT"
      },
      "execution_count": null,
      "outputs": []
    },
    {
      "cell_type": "code",
      "source": [
        "#Calling function cara 1\n",
        "tampil_plus(-5)"
      ],
      "metadata": {
        "colab": {
          "base_uri": "https://localhost:8080/"
        },
        "id": "tLGcoj7NeYPi",
        "outputId": "1dbdacff-a150-4e23-a3d1-5e19b50a1b8d"
      },
      "execution_count": null,
      "outputs": [
        {
          "output_type": "stream",
          "name": "stdout",
          "text": [
            "Input Salah\n"
          ]
        }
      ]
    },
    {
      "cell_type": "code",
      "source": [
        "#Calling function cara 2\n",
        "print(tampil_plus(1))\n",
        "print(tampil_plus(3))\n",
        "print(tampil_plus(5))\n",
        "print(tampil_plus(0))\n",
        "print(tampil_plus(-1))"
      ],
      "metadata": {
        "colab": {
          "base_uri": "https://localhost:8080/"
        },
        "id": "fzpFhIV_eIWg",
        "outputId": "f82ea8b1-2577-4861-a0da-7b3114b93f6d"
      },
      "execution_count": null,
      "outputs": [
        {
          "output_type": "stream",
          "name": "stdout",
          "text": [
            "+\n",
            "None\n",
            "+\n",
            "+\n",
            "+\n",
            "None\n",
            "+\n",
            "+\n",
            "+\n",
            "+\n",
            "+\n",
            "None\n",
            "Input Salah\n",
            "None\n",
            "Input Salah\n",
            "None\n"
          ]
        }
      ]
    },
    {
      "cell_type": "markdown",
      "source": [
        "**NOMOR 2**\n",
        "\n",
        "Buat sebuah function untuk mereturn hanya angka genap (positif/negatif) dari sekumpulan list yang berisi nilai-nilai (tidak termasuk 0).\n",
        "  * Input : `daftar_angka` : daftar angka-angka | list of int\n",
        "  * Output : daftar angka-angka genap | list of int\n",
        "\n",
        "| No | Input | Output |\n",
        "| - | - | - |\n",
        "| 1 | daftar_angka = [1, 2, 3, 4, 5, 6] | [2, 4, 6] |\n",
        "| 2 | daftar_angka = [0, 1, 3, 5, 7, 9] | [] |\n",
        "| 3 | daftar_angka = [-10, -9, -8, -7]  | [-10, -8] |\n",
        "\n",
        "tips: gunakan `*args` = tuple, `**kwargs` = dictionary"
      ],
      "metadata": {
        "id": "yw_1FwFvdzhZ"
      }
    },
    {
      "cell_type": "code",
      "source": [
        "# Working area\n",
        "#Create function\n",
        "def tampil_genap(*num):\n",
        "  penampung = []\n",
        "  for i in num:\n",
        "    if i % 2 == 0 and i != 0:\n",
        "      penampung.append(i)\n",
        "    else:\n",
        "      pass\n",
        "  return penampung"
      ],
      "metadata": {
        "id": "StZN__rmeCzk"
      },
      "execution_count": null,
      "outputs": []
    },
    {
      "cell_type": "code",
      "source": [
        "#Calling function\n",
        "print(tampil_genap(1,2,3,4,5,6))\n",
        "print(tampil_genap(0, 1, 3, 5, 7, 9))\n",
        "print(tampil_genap(-10, -9, -8, -7))"
      ],
      "metadata": {
        "colab": {
          "base_uri": "https://localhost:8080/"
        },
        "id": "KfQhri3Ke4oG",
        "outputId": "5085e910-a202-4148-e487-978f54a3e028"
      },
      "execution_count": null,
      "outputs": [
        {
          "output_type": "stream",
          "name": "stdout",
          "text": [
            "[2, 4, 6]\n",
            "[]\n",
            "[-10, -8]\n"
          ]
        }
      ]
    },
    {
      "cell_type": "code",
      "source": [
        "#Calling function pakai input\n",
        "number = input('masukan angka dengan pemisah spasi:')\n",
        "number = list(map(int,(number.split( ))))\n",
        "print(number)\n",
        "print(type(number))\n",
        "print(tampil_genap(*number))"
      ],
      "metadata": {
        "colab": {
          "base_uri": "https://localhost:8080/"
        },
        "id": "52HtobqdjF0W",
        "outputId": "f202446d-c832-4e9e-96e9-f752e6fe69a0"
      },
      "execution_count": null,
      "outputs": [
        {
          "output_type": "stream",
          "name": "stdout",
          "text": [
            "masukan angka dengan pemisah spasi:1 2 3 4 5 6\n",
            "[1, 2, 3, 4, 5, 6]\n",
            "<class 'list'>\n",
            "[2, 4, 6]\n"
          ]
        }
      ]
    },
    {
      "cell_type": "markdown",
      "source": [
        "**NOMOR 3**\n",
        "\n",
        "Buatlah sebuah function untuk menampilkan `nama` dan `negara`. Jika tidak ada value pada parameter `negara`, isi dengan `Indonesia`.\n",
        "  * Input : `nama` | str\n",
        "  * Input : `negara` | str\n",
        "\n",
        "| No | Input | Output |\n",
        "| - | - | - |\n",
        "| 1 | nama = Frank <br /> <br /> negara = USA| \"Halo Frank dari USA\" |\n",
        "| 2 | nama = Smith <br /> <br /> negara = Jerman| \"Halo Smith dari Jerman\" |\n",
        "| 3 | nama = Anton | \"Halo Anton dari Indonesia\" |\n",
        "| 4 | negara = Singapura | *--Program Error--* |"
      ],
      "metadata": {
        "id": "0DcMb8v7d30b"
      }
    },
    {
      "cell_type": "code",
      "source": [
        "# Working area\n",
        "#Create function\n",
        "def tampil_nama_negara(nama,negara='Indonesia'):\n",
        "  return f'Halo {nama} dari {negara}'"
      ],
      "metadata": {
        "id": "R9PYHSTQeDpp"
      },
      "execution_count": null,
      "outputs": []
    },
    {
      "cell_type": "code",
      "source": [
        "#Calling function\n",
        "print(tampil_nama_negara('Frank','USA'))\n",
        "print(tampil_nama_negara('Smith','Jerman'))\n",
        "print(tampil_nama_negara('Anton'))\n"
      ],
      "metadata": {
        "colab": {
          "base_uri": "https://localhost:8080/"
        },
        "id": "cSEajnhuhnWs",
        "outputId": "76b2dc74-97b5-4890-d51c-49357c937485"
      },
      "execution_count": null,
      "outputs": [
        {
          "output_type": "stream",
          "name": "stdout",
          "text": [
            "Halo Frank dari USA\n",
            "Halo Smith dari Jerman\n",
            "Halo Anton dari Indonesia\n"
          ]
        }
      ]
    },
    {
      "cell_type": "code",
      "source": [
        "print(tampil_nama_negara(negara='USA'))"
      ],
      "metadata": {
        "colab": {
          "base_uri": "https://localhost:8080/",
          "height": 141
        },
        "id": "FDL4UkL1h02_",
        "outputId": "c204a1b6-4361-45a0-8f11-c88693c3fa25"
      },
      "execution_count": null,
      "outputs": [
        {
          "output_type": "error",
          "ename": "TypeError",
          "evalue": "tampil_nama_negara() missing 1 required positional argument: 'nama'",
          "traceback": [
            "\u001b[0;31m---------------------------------------------------------------------------\u001b[0m",
            "\u001b[0;31mTypeError\u001b[0m                                 Traceback (most recent call last)",
            "\u001b[0;32m<ipython-input-32-d7c1b37da606>\u001b[0m in \u001b[0;36m<cell line: 1>\u001b[0;34m()\u001b[0m\n\u001b[0;32m----> 1\u001b[0;31m \u001b[0mprint\u001b[0m\u001b[0;34m(\u001b[0m\u001b[0mtampil_nama_negara\u001b[0m\u001b[0;34m(\u001b[0m\u001b[0mnegara\u001b[0m\u001b[0;34m=\u001b[0m\u001b[0;34m'USA'\u001b[0m\u001b[0;34m)\u001b[0m\u001b[0;34m)\u001b[0m\u001b[0;34m\u001b[0m\u001b[0;34m\u001b[0m\u001b[0m\n\u001b[0m",
            "\u001b[0;31mTypeError\u001b[0m: tampil_nama_negara() missing 1 required positional argument: 'nama'"
          ]
        }
      ]
    },
    {
      "cell_type": "code",
      "source": [
        "print(tampil_nama_negara('USA','Frank'))"
      ],
      "metadata": {
        "colab": {
          "base_uri": "https://localhost:8080/"
        },
        "id": "GtautD0-iCr9",
        "outputId": "02bc8282-30ff-4abb-d494-13212e462abb"
      },
      "execution_count": null,
      "outputs": [
        {
          "output_type": "stream",
          "name": "stdout",
          "text": [
            "Halo USA dari Frank\n"
          ]
        }
      ]
    },
    {
      "cell_type": "code",
      "source": [
        "print(tampil_nama_negara(negara='USA',nama='Frank'))"
      ],
      "metadata": {
        "colab": {
          "base_uri": "https://localhost:8080/"
        },
        "id": "uNBeVeQliK8B",
        "outputId": "acce5555-892f-49ae-e3f1-cd3448a50540"
      },
      "execution_count": null,
      "outputs": [
        {
          "output_type": "stream",
          "name": "stdout",
          "text": [
            "Halo Frank dari USA\n"
          ]
        }
      ]
    },
    {
      "cell_type": "markdown",
      "source": [
        "## Latihan modul no 5"
      ],
      "metadata": {
        "id": "Eypkkskhmypa"
      }
    },
    {
      "cell_type": "code",
      "source": [
        "import modulku as m\n",
        "\n",
        "m.sapa(\"Andi\")\n",
        "print(m.hitung_luas(5, 10))\n"
      ],
      "metadata": {
        "colab": {
          "base_uri": "https://localhost:8080/"
        },
        "id": "0io-Z6Ezmt6U",
        "outputId": "4e43f364-fcaa-4d4f-f4aa-6b22826dd4d4"
      },
      "execution_count": null,
      "outputs": [
        {
          "output_type": "stream",
          "name": "stdout",
          "text": [
            "Halo, Andi!\n",
            "50\n"
          ]
        }
      ]
    },
    {
      "cell_type": "code",
      "source": [
        "m.a"
      ],
      "metadata": {
        "colab": {
          "base_uri": "https://localhost:8080/"
        },
        "id": "y5OpLY58nGaA",
        "outputId": "6273f9d0-2599-4c16-fee8-debc0b2f9f2d"
      },
      "execution_count": null,
      "outputs": [
        {
          "output_type": "execute_result",
          "data": {
            "text/plain": [
              "[1, 2, 3, 4]"
            ]
          },
          "metadata": {},
          "execution_count": 2
        }
      ]
    },
    {
      "cell_type": "code",
      "source": [
        "import modul2"
      ],
      "metadata": {
        "id": "z1-a4KPTn3Jf"
      },
      "execution_count": null,
      "outputs": []
    },
    {
      "cell_type": "code",
      "source": [
        "modul2.a"
      ],
      "metadata": {
        "colab": {
          "base_uri": "https://localhost:8080/",
          "height": 35
        },
        "id": "ZuaLFzU4n4z4",
        "outputId": "c0ae261e-9bb7-4a96-b9f6-94e4d758ad4a"
      },
      "execution_count": null,
      "outputs": [
        {
          "output_type": "execute_result",
          "data": {
            "text/plain": [
              "'aku'"
            ],
            "application/vnd.google.colaboratory.intrinsic+json": {
              "type": "string"
            }
          },
          "metadata": {},
          "execution_count": 4
        }
      ]
    },
    {
      "cell_type": "code",
      "source": [
        "from modulku import sapa\n",
        "sapa('Vincent')"
      ],
      "metadata": {
        "colab": {
          "base_uri": "https://localhost:8080/"
        },
        "id": "ZEiDPUaXoMkV",
        "outputId": "fb490978-5372-4aca-86c2-556b1974481d"
      },
      "execution_count": null,
      "outputs": [
        {
          "output_type": "stream",
          "name": "stdout",
          "text": [
            "Halo, Vincent!\n"
          ]
        }
      ]
    },
    {
      "cell_type": "markdown",
      "source": [
        "# Latihan Module"
      ],
      "metadata": {
        "id": "8rd_yWJ7jcoF"
      }
    },
    {
      "cell_type": "markdown",
      "source": [
        "Buat function untuk menghitung luas persegi panjang dan keliling persegi panjang pada sebuah module dengan file `my_first_module.py` pada colab ini, lalu import ke notebook ini dan function nya di sini!"
      ],
      "metadata": {
        "id": "1D0ZkVWQdBhd"
      }
    },
    {
      "cell_type": "code",
      "source": [
        "from my_first_module import luas,keliling\n",
        "\n",
        "print(luas(10,2))\n",
        "print(keliling(10,2))"
      ],
      "metadata": {
        "colab": {
          "base_uri": "https://localhost:8080/"
        },
        "id": "XkXY4VWFr-RX",
        "outputId": "e082cd64-16be-4a7c-8c11-fc5cbb19bd36"
      },
      "execution_count": null,
      "outputs": [
        {
          "output_type": "stream",
          "name": "stdout",
          "text": [
            "20\n",
            "24\n"
          ]
        }
      ]
    },
    {
      "cell_type": "markdown",
      "source": [
        "# **Assignment 2**:\n",
        "1. Buatlah notebook file dengan format <nama_assignment2.ipynb> yang berisi sebuah function untuk :\n",
        "  * Mereturn angka disuatu posisi berdasarkan bilangan pertama dari sebuah daftar angka-angka.\n",
        "  * Urutan posisi dimulai dari bilangan kedua.\n",
        "  * Jika bilangan pertama melebihi jumlah banyaknya daftar angka-angka, maka return **-1**.\n",
        "  * Input : daftar angka\n",
        "\n",
        "| No | Input | Output |\n",
        "| - | - | - |\n",
        "| 1 | (3, 10, 20, 30, 40) | 40 |\n",
        "| 2 | (0, -10, 10)| -10 |\n",
        "| 3 | (1, 2, 300, 10) | 300 |\n",
        "| 4 | (100, 200, 300, -400) | -1 |\n",
        "| 5 | (4, 200, 300, -400) | -1 |\n",
        "\n",
        "\n",
        "2. Buat module Python bernama `rumus.py` yang berisi dua fungsi: satu untuk menghitung luas segitiga dan satu lagi untuk menghitung keliling segitiga. Gunakan module tersebut di notebook utama (pada soal no 1).\n",
        "\n",
        "Submit dilakukan dalam bentuk mengirimkan link github repository (public) ke google form."
      ],
      "metadata": {
        "id": "TKpxcRRudjBM"
      }
    },
    {
      "cell_type": "markdown",
      "source": [
        "NOMOR 1"
      ],
      "metadata": {
        "id": "PpnLtwMehm4W"
      }
    },
    {
      "cell_type": "code",
      "source": [
        "def daftar_angka(*num):\n",
        "  i = num[0] + 1\n",
        "  if i >= len(num):\n",
        "    return -1\n",
        "  else:\n",
        "    return num[i]\n",
        "\n",
        "# Test cases\n",
        "print(daftar_angka(3, 10, 20, 30, 40))  # Output: 40\n",
        "print(daftar_angka(0, -10, 10))  # Output: -10\n",
        "print(daftar_angka(1, 2, 300, 10))  # Output: 300\n",
        "print(daftar_angka(100, 200, 300, -400))  # Output: -1\n",
        "print(daftar_angka(4, 200, 300, -400))  # Output: -1"
      ],
      "metadata": {
        "id": "ocwpwPkT5Wz-",
        "outputId": "ec77ef34-4026-4c9f-ad62-8b7c9c81b329",
        "colab": {
          "base_uri": "https://localhost:8080/"
        }
      },
      "execution_count": 4,
      "outputs": [
        {
          "output_type": "stream",
          "name": "stdout",
          "text": [
            "40\n",
            "-10\n",
            "300\n",
            "-1\n",
            "-1\n"
          ]
        }
      ]
    },
    {
      "cell_type": "code",
      "source": [
        "import rumus\n",
        "\n",
        "# Example usage\n",
        "alas = 10\n",
        "tinggi = 5\n",
        "luas = rumus.luas_segitiga(alas, tinggi)\n",
        "print(f\"Luas segitiga: {luas}\")\n",
        "\n",
        "sisi1 = 3\n",
        "sisi2 = 4\n",
        "sisi3 = 5\n",
        "keliling = rumus.keliling_segitiga(sisi1, sisi2, sisi3)\n",
        "print(f\"Keliling segitiga: {keliling}\")"
      ],
      "metadata": {
        "id": "qVr_gHddhpVU",
        "outputId": "89dc70ea-85a7-40cd-fea1-1bfede27236a",
        "colab": {
          "base_uri": "https://localhost:8080/"
        }
      },
      "execution_count": 8,
      "outputs": [
        {
          "output_type": "stream",
          "name": "stdout",
          "text": [
            "Luas segitiga: 25.0\n",
            "Keliling segitiga: 12\n"
          ]
        }
      ]
    },
    {
      "cell_type": "markdown",
      "source": [
        "---\n",
        "$$-- END --$$\n",
        "___"
      ],
      "metadata": {
        "id": "zLGyJ4D0akeQ"
      }
    },
    {
      "cell_type": "markdown",
      "source": [
        "![image.png](data:image/png;base64,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)"
      ],
      "metadata": {
        "id": "oOyaDPT_yNAB"
      }
    },
    {
      "cell_type": "markdown",
      "source": [
        "## Additional"
      ],
      "metadata": {
        "id": "0U9n_6CqypEq"
      }
    },
    {
      "cell_type": "markdown",
      "source": [
        "Buatlah sebuah function untuk menampilkan tanda plus (`+`) berbentuk segitiga dibawah ini.\n",
        "  * Input : `n` | int\n",
        "  * Output : Jumlah tanda plus yang dimunculkan.\n",
        "\n",
        "| Input | Output |\n",
        "| - | - |\n",
        "| n = 1 | + |\n",
        "| n = 2 | ++ <br /> +|\n",
        "| n = 3 | +++ <br /> ++ <br /> +|\n",
        "| n = 4 | ++++ <br /> +++ <br /> ++ <br /> +|\n",
        "| n = 5 | +++++ <br /> ++++ <br /> +++ <br /> ++ <br /> +|\n",
        "| n = -1 | *--error--* |"
      ],
      "metadata": {
        "id": "d-Zw4Gcpynhj"
      }
    },
    {
      "cell_type": "code",
      "source": [
        "def plus_kebalik (n) :\n",
        "  if n <= 0:\n",
        "    print(\"error\")\n",
        "    return\n",
        "  for i in range (n) :\n",
        "    print((n-i)*\"+\")\n",
        "\n",
        "print(plus_kebalik (1))\n",
        "print(plus_kebalik (2))\n",
        "print(plus_kebalik (3))\n",
        "print(plus_kebalik (4))\n",
        "print(plus_kebalik (5))\n",
        "print(plus_kebalik (-1))"
      ],
      "metadata": {
        "id": "qR0xupleyP6C",
        "colab": {
          "base_uri": "https://localhost:8080/"
        },
        "outputId": "c3111c87-0f11-4d74-a398-d88e1dbc7419"
      },
      "execution_count": 65,
      "outputs": [
        {
          "output_type": "stream",
          "name": "stdout",
          "text": [
            "+\n",
            "None\n",
            "++\n",
            "+\n",
            "None\n",
            "+++\n",
            "++\n",
            "+\n",
            "None\n",
            "++++\n",
            "+++\n",
            "++\n",
            "+\n",
            "None\n",
            "+++++\n",
            "++++\n",
            "+++\n",
            "++\n",
            "+\n",
            "None\n",
            "error\n",
            "None\n"
          ]
        }
      ]
    }
  ]
}